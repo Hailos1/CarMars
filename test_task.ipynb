{
  "nbformat": 4,
  "nbformat_minor": 0,
  "metadata": {
    "colab": {
      "provenance": [],
      "authorship_tag": "ABX9TyMnAEMQwAhLlsEhjim0U+Cc",
      "include_colab_link": true
    },
    "kernelspec": {
      "name": "python3",
      "display_name": "Python 3"
    },
    "language_info": {
      "name": "python"
    }
  },
  "cells": [
    {
      "cell_type": "markdown",
      "metadata": {
        "id": "view-in-github",
        "colab_type": "text"
      },
      "source": [
        "<a href=\"https://colab.research.google.com/github/Hailos1/CarMars/blob/main/test_task.ipynb\" target=\"_parent\"><img src=\"https://colab.research.google.com/assets/colab-badge.svg\" alt=\"Open In Colab\"/></a>"
      ]
    },
    {
      "cell_type": "markdown",
      "source": [
        "# Вопросы"
      ],
      "metadata": {
        "id": "LfdMhzb1B15b"
      }
    },
    {
      "cell_type": "markdown",
      "source": [
        "1) Как хорошо Вы владеете Python? Оцените свой уровень по шкале от 0 до 10,\n",
        "где 0 - совсем не знаю, 10 - владею в совершенстве.\n",
        "Объясните, почему Вы выбрали такой балл."
      ],
      "metadata": {
        "id": "35UiGF9wCKWq"
      }
    },
    {
      "cell_type": "markdown",
      "source": [
        "Python = 6 - знаю основы и умею работать с популярными библиотеками. В данный момент начала проходить курс по ML.\n"
      ],
      "metadata": {
        "id": "qjWgpBVHOFMy"
      }
    },
    {
      "cell_type": "markdown",
      "source": [
        "2) Насколько хорошо Вы знакомы с Google Sheets? Оцените свой уровень по\n",
        "шкале от 0 до 10, где 0 - совсем не знаю, 10 - владею в совершенстве.\n",
        "Объясните, почему Вы выбрали такой балл.\n"
      ],
      "metadata": {
        "id": "qektf2ycCM4v"
      }
    },
    {
      "cell_type": "markdown",
      "source": [
        "Google sheets = 6, с самим google sheets не работала так много и явно, как с Эксель, но технологии являются схожими. В самом google sheets веду свои таблички для учёта некоторых вещей в личной жизни."
      ],
      "metadata": {
        "id": "oLFG4OQlOHGO"
      }
    },
    {
      "cell_type": "markdown",
      "source": [
        "# Задачи на логику"
      ],
      "metadata": {
        "id": "X8TjGATmB8AA"
      }
    },
    {
      "cell_type": "markdown",
      "source": [
        "1) Рекламная кампания стартовала вчера с дневным бюджетом 40 $. Половина бюджета была израсходована к полудню, а 80% оставшегося бюджета было потрачено между полуднем и временем закрытия. Сколько долларов не было потрачено?\n"
      ],
      "metadata": {
        "id": "hKzNHUd_CYTp"
      }
    },
    {
      "cell_type": "markdown",
      "source": [
        "**4**"
      ],
      "metadata": {
        "id": "m8mqk9OFH_Gq"
      }
    },
    {
      "cell_type": "markdown",
      "source": [
        "2) 5 идентичных рекламных кампаний работали 24 дня по 6 часов в день, потрачено было 120 долларов. Сколько дней они работали бы на 216 долларов, если бы 9 одинаковых кампаний работали бы по 8 часов в день?\n"
      ],
      "metadata": {
        "id": "ZOnNvfuAC4Jj"
      }
    },
    {
      "cell_type": "markdown",
      "source": [
        "**18**"
      ],
      "metadata": {
        "id": "Czt4meclIqX9"
      }
    },
    {
      "cell_type": "markdown",
      "source": [
        "3) Дизайнеры создали 200 рекламных баннеров для двух рекламных кампаний. 80 из них не использовались ни в кампании №1, ни в кампании №2, 60 использовались только в кампании №1. И для каждого рекламного баннера, который использовался в обеих кампаниях, приходится 3 баннера, которые использовались только в кампании №2. Сколько баннеров было использовано в обеих рекламных кампаниях?"
      ],
      "metadata": {
        "id": "L3Z3D06JC-xj"
      }
    },
    {
      "cell_type": "markdown",
      "source": [
        "**15**"
      ],
      "metadata": {
        "id": "HNiRwTEqKP_1"
      }
    },
    {
      "cell_type": "markdown",
      "source": [
        "4) Энн использует Instagram, но не Facebook, а Джон использует Youtube и Facebook. Кейт использует Youtube, но не Instagram, а Том использует Facebook, но не Youtube. Если каждый человек использует две из трех социальных сетей, у кого предпочтения совпадают?"
      ],
      "metadata": {
        "id": "Xu1bBiJnDIMf"
      }
    },
    {
      "cell_type": "markdown",
      "source": [
        "**Джон и Кейт**"
      ],
      "metadata": {
        "id": "banUbhRpKzA5"
      }
    },
    {
      "cell_type": "markdown",
      "source": [
        "5) Средний итоговый балл стажера по 4 модулям составляет 78 баллов. Сколько баллов должен получить стажер за 5-й модуль, чтобы средний балл по всему заданию составил 80?\n"
      ],
      "metadata": {
        "id": "zWMejMekDUKb"
      }
    },
    {
      "cell_type": "markdown",
      "source": [
        "**88**"
      ],
      "metadata": {
        "id": "35cdOpmaLrEY"
      }
    },
    {
      "cell_type": "markdown",
      "source": [
        "6) Заказанные в приложении товары доставляются на автомобиле. Автомобиль проезжает 260 км со средней скоростью 80 км / ч. На обратном пути машина движется со средней скоростью 100 км / ч. Насколько быстрее был обратный путь? Ответ указать в минутах."
      ],
      "metadata": {
        "id": "5KSGFhalDW1V"
      }
    },
    {
      "cell_type": "markdown",
      "source": [
        "**39**"
      ],
      "metadata": {
        "id": "qqZyY-ThMskN"
      }
    },
    {
      "cell_type": "markdown",
      "source": [
        "# Техническое задание"
      ],
      "metadata": {
        "id": "ujDtkmRJBxD0"
      }
    },
    {
      "cell_type": "code",
      "execution_count": 35,
      "metadata": {
        "id": "aeAJ2hiCe2hp"
      },
      "outputs": [],
      "source": [
        "import numpy as np\n",
        "import pandas as pd\n",
        "import matplotlib.pyplot as plt\n",
        "%matplotlib inline\n",
        "import seaborn as sns\n",
        "\n",
        "%precision %.2f\n",
        "\n",
        "import warnings\n",
        "warnings.filterwarnings('ignore')"
      ]
    },
    {
      "cell_type": "code",
      "source": [
        "from google.colab import drive\n",
        "drive.mount('/content/drive')"
      ],
      "metadata": {
        "colab": {
          "base_uri": "https://localhost:8080/"
        },
        "id": "IodPNu_RfpVz",
        "outputId": "59fb72fd-9a55-415a-c469-d519dba96e99"
      },
      "execution_count": 3,
      "outputs": [
        {
          "output_type": "stream",
          "name": "stdout",
          "text": [
            "Mounted at /content/drive\n"
          ]
        }
      ]
    },
    {
      "cell_type": "code",
      "source": [
        "path = \"/content/drive/MyDrive/data/data.xlsx\"\n",
        "df = pd.read_excel(path)"
      ],
      "metadata": {
        "id": "jztzCh7zf1ti"
      },
      "execution_count": 36,
      "outputs": []
    },
    {
      "cell_type": "code",
      "source": [
        "df"
      ],
      "metadata": {
        "colab": {
          "base_uri": "https://localhost:8080/",
          "height": 423
        },
        "id": "lyoklm4hguRF",
        "outputId": "cba44bf6-fcae-448c-b199-5e998a80d6b7"
      },
      "execution_count": null,
      "outputs": [
        {
          "output_type": "execute_result",
          "data": {
            "text/plain": [
              "     client_id      sum      status        sale new/current  Unnamed: 5  \\\n",
              "0          NaN      NaN    Май 2021         NaN         NaN         NaN   \n",
              "1          6.0  11693.7  ВНУТРЕННИЙ           -           -         NaN   \n",
              "2         14.0   5452.7    ОПЛАЧЕНО     Петрова       новая         NaN   \n",
              "3         15.0  13991.7    ОПЛАЧЕНО      Иванов     текущая         NaN   \n",
              "4         16.0    719.7    ОПЛАЧЕНО      Иванов     текущая         NaN   \n",
              "..         ...      ...         ...         ...         ...         ...   \n",
              "725      285.0   4328.7    ОПЛАЧЕНО    Васильев     текущая         NaN   \n",
              "726      360.0   3096.2    ОПЛАЧЕНО    Васильев       новая         NaN   \n",
              "727      360.0   3096.2  ПРОСРОЧЕНО    Васильев       новая         NaN   \n",
              "728      373.0   4403.7    ОПЛАЧЕНО    Михайлов       новая         NaN   \n",
              "729      286.0   3978.7    ОПЛАЧЕНО  Филимонова     текущая         NaN   \n",
              "\n",
              "     document receiving_date  \n",
              "0         NaN            NaT  \n",
              "1           -            NaT  \n",
              "2    оригинал     2021-07-26  \n",
              "3    оригинал     2021-06-08  \n",
              "4    оригинал     2021-06-08  \n",
              "..        ...            ...  \n",
              "725  оригинал     2021-11-15  \n",
              "726       НЕТ            NaT  \n",
              "727       НЕТ            NaT  \n",
              "728  оригинал     2021-11-08  \n",
              "729  оригинал     2021-11-15  \n",
              "\n",
              "[730 rows x 8 columns]"
            ],
            "text/html": [
              "\n",
              "  <div id=\"df-7fa7bdb2-8d1e-4d11-9b6c-d509089aae98\" class=\"colab-df-container\">\n",
              "    <div>\n",
              "<style scoped>\n",
              "    .dataframe tbody tr th:only-of-type {\n",
              "        vertical-align: middle;\n",
              "    }\n",
              "\n",
              "    .dataframe tbody tr th {\n",
              "        vertical-align: top;\n",
              "    }\n",
              "\n",
              "    .dataframe thead th {\n",
              "        text-align: right;\n",
              "    }\n",
              "</style>\n",
              "<table border=\"1\" class=\"dataframe\">\n",
              "  <thead>\n",
              "    <tr style=\"text-align: right;\">\n",
              "      <th></th>\n",
              "      <th>client_id</th>\n",
              "      <th>sum</th>\n",
              "      <th>status</th>\n",
              "      <th>sale</th>\n",
              "      <th>new/current</th>\n",
              "      <th>Unnamed: 5</th>\n",
              "      <th>document</th>\n",
              "      <th>receiving_date</th>\n",
              "    </tr>\n",
              "  </thead>\n",
              "  <tbody>\n",
              "    <tr>\n",
              "      <th>0</th>\n",
              "      <td>NaN</td>\n",
              "      <td>NaN</td>\n",
              "      <td>Май 2021</td>\n",
              "      <td>NaN</td>\n",
              "      <td>NaN</td>\n",
              "      <td>NaN</td>\n",
              "      <td>NaN</td>\n",
              "      <td>NaT</td>\n",
              "    </tr>\n",
              "    <tr>\n",
              "      <th>1</th>\n",
              "      <td>6.0</td>\n",
              "      <td>11693.7</td>\n",
              "      <td>ВНУТРЕННИЙ</td>\n",
              "      <td>-</td>\n",
              "      <td>-</td>\n",
              "      <td>NaN</td>\n",
              "      <td>-</td>\n",
              "      <td>NaT</td>\n",
              "    </tr>\n",
              "    <tr>\n",
              "      <th>2</th>\n",
              "      <td>14.0</td>\n",
              "      <td>5452.7</td>\n",
              "      <td>ОПЛАЧЕНО</td>\n",
              "      <td>Петрова</td>\n",
              "      <td>новая</td>\n",
              "      <td>NaN</td>\n",
              "      <td>оригинал</td>\n",
              "      <td>2021-07-26</td>\n",
              "    </tr>\n",
              "    <tr>\n",
              "      <th>3</th>\n",
              "      <td>15.0</td>\n",
              "      <td>13991.7</td>\n",
              "      <td>ОПЛАЧЕНО</td>\n",
              "      <td>Иванов</td>\n",
              "      <td>текущая</td>\n",
              "      <td>NaN</td>\n",
              "      <td>оригинал</td>\n",
              "      <td>2021-06-08</td>\n",
              "    </tr>\n",
              "    <tr>\n",
              "      <th>4</th>\n",
              "      <td>16.0</td>\n",
              "      <td>719.7</td>\n",
              "      <td>ОПЛАЧЕНО</td>\n",
              "      <td>Иванов</td>\n",
              "      <td>текущая</td>\n",
              "      <td>NaN</td>\n",
              "      <td>оригинал</td>\n",
              "      <td>2021-06-08</td>\n",
              "    </tr>\n",
              "    <tr>\n",
              "      <th>...</th>\n",
              "      <td>...</td>\n",
              "      <td>...</td>\n",
              "      <td>...</td>\n",
              "      <td>...</td>\n",
              "      <td>...</td>\n",
              "      <td>...</td>\n",
              "      <td>...</td>\n",
              "      <td>...</td>\n",
              "    </tr>\n",
              "    <tr>\n",
              "      <th>725</th>\n",
              "      <td>285.0</td>\n",
              "      <td>4328.7</td>\n",
              "      <td>ОПЛАЧЕНО</td>\n",
              "      <td>Васильев</td>\n",
              "      <td>текущая</td>\n",
              "      <td>NaN</td>\n",
              "      <td>оригинал</td>\n",
              "      <td>2021-11-15</td>\n",
              "    </tr>\n",
              "    <tr>\n",
              "      <th>726</th>\n",
              "      <td>360.0</td>\n",
              "      <td>3096.2</td>\n",
              "      <td>ОПЛАЧЕНО</td>\n",
              "      <td>Васильев</td>\n",
              "      <td>новая</td>\n",
              "      <td>NaN</td>\n",
              "      <td>НЕТ</td>\n",
              "      <td>NaT</td>\n",
              "    </tr>\n",
              "    <tr>\n",
              "      <th>727</th>\n",
              "      <td>360.0</td>\n",
              "      <td>3096.2</td>\n",
              "      <td>ПРОСРОЧЕНО</td>\n",
              "      <td>Васильев</td>\n",
              "      <td>новая</td>\n",
              "      <td>NaN</td>\n",
              "      <td>НЕТ</td>\n",
              "      <td>NaT</td>\n",
              "    </tr>\n",
              "    <tr>\n",
              "      <th>728</th>\n",
              "      <td>373.0</td>\n",
              "      <td>4403.7</td>\n",
              "      <td>ОПЛАЧЕНО</td>\n",
              "      <td>Михайлов</td>\n",
              "      <td>новая</td>\n",
              "      <td>NaN</td>\n",
              "      <td>оригинал</td>\n",
              "      <td>2021-11-08</td>\n",
              "    </tr>\n",
              "    <tr>\n",
              "      <th>729</th>\n",
              "      <td>286.0</td>\n",
              "      <td>3978.7</td>\n",
              "      <td>ОПЛАЧЕНО</td>\n",
              "      <td>Филимонова</td>\n",
              "      <td>текущая</td>\n",
              "      <td>NaN</td>\n",
              "      <td>оригинал</td>\n",
              "      <td>2021-11-15</td>\n",
              "    </tr>\n",
              "  </tbody>\n",
              "</table>\n",
              "<p>730 rows × 8 columns</p>\n",
              "</div>\n",
              "    <div class=\"colab-df-buttons\">\n",
              "\n",
              "  <div class=\"colab-df-container\">\n",
              "    <button class=\"colab-df-convert\" onclick=\"convertToInteractive('df-7fa7bdb2-8d1e-4d11-9b6c-d509089aae98')\"\n",
              "            title=\"Convert this dataframe to an interactive table.\"\n",
              "            style=\"display:none;\">\n",
              "\n",
              "  <svg xmlns=\"http://www.w3.org/2000/svg\" height=\"24px\" viewBox=\"0 -960 960 960\">\n",
              "    <path d=\"M120-120v-720h720v720H120Zm60-500h600v-160H180v160Zm220 220h160v-160H400v160Zm0 220h160v-160H400v160ZM180-400h160v-160H180v160Zm440 0h160v-160H620v160ZM180-180h160v-160H180v160Zm440 0h160v-160H620v160Z\"/>\n",
              "  </svg>\n",
              "    </button>\n",
              "\n",
              "  <style>\n",
              "    .colab-df-container {\n",
              "      display:flex;\n",
              "      gap: 12px;\n",
              "    }\n",
              "\n",
              "    .colab-df-convert {\n",
              "      background-color: #E8F0FE;\n",
              "      border: none;\n",
              "      border-radius: 50%;\n",
              "      cursor: pointer;\n",
              "      display: none;\n",
              "      fill: #1967D2;\n",
              "      height: 32px;\n",
              "      padding: 0 0 0 0;\n",
              "      width: 32px;\n",
              "    }\n",
              "\n",
              "    .colab-df-convert:hover {\n",
              "      background-color: #E2EBFA;\n",
              "      box-shadow: 0px 1px 2px rgba(60, 64, 67, 0.3), 0px 1px 3px 1px rgba(60, 64, 67, 0.15);\n",
              "      fill: #174EA6;\n",
              "    }\n",
              "\n",
              "    .colab-df-buttons div {\n",
              "      margin-bottom: 4px;\n",
              "    }\n",
              "\n",
              "    [theme=dark] .colab-df-convert {\n",
              "      background-color: #3B4455;\n",
              "      fill: #D2E3FC;\n",
              "    }\n",
              "\n",
              "    [theme=dark] .colab-df-convert:hover {\n",
              "      background-color: #434B5C;\n",
              "      box-shadow: 0px 1px 3px 1px rgba(0, 0, 0, 0.15);\n",
              "      filter: drop-shadow(0px 1px 2px rgba(0, 0, 0, 0.3));\n",
              "      fill: #FFFFFF;\n",
              "    }\n",
              "  </style>\n",
              "\n",
              "    <script>\n",
              "      const buttonEl =\n",
              "        document.querySelector('#df-7fa7bdb2-8d1e-4d11-9b6c-d509089aae98 button.colab-df-convert');\n",
              "      buttonEl.style.display =\n",
              "        google.colab.kernel.accessAllowed ? 'block' : 'none';\n",
              "\n",
              "      async function convertToInteractive(key) {\n",
              "        const element = document.querySelector('#df-7fa7bdb2-8d1e-4d11-9b6c-d509089aae98');\n",
              "        const dataTable =\n",
              "          await google.colab.kernel.invokeFunction('convertToInteractive',\n",
              "                                                    [key], {});\n",
              "        if (!dataTable) return;\n",
              "\n",
              "        const docLinkHtml = 'Like what you see? Visit the ' +\n",
              "          '<a target=\"_blank\" href=https://colab.research.google.com/notebooks/data_table.ipynb>data table notebook</a>'\n",
              "          + ' to learn more about interactive tables.';\n",
              "        element.innerHTML = '';\n",
              "        dataTable['output_type'] = 'display_data';\n",
              "        await google.colab.output.renderOutput(dataTable, element);\n",
              "        const docLink = document.createElement('div');\n",
              "        docLink.innerHTML = docLinkHtml;\n",
              "        element.appendChild(docLink);\n",
              "      }\n",
              "    </script>\n",
              "  </div>\n",
              "\n",
              "\n",
              "<div id=\"df-07d2dbd4-d608-4239-8b2f-7ac2365606d3\">\n",
              "  <button class=\"colab-df-quickchart\" onclick=\"quickchart('df-07d2dbd4-d608-4239-8b2f-7ac2365606d3')\"\n",
              "            title=\"Suggest charts\"\n",
              "            style=\"display:none;\">\n",
              "\n",
              "<svg xmlns=\"http://www.w3.org/2000/svg\" height=\"24px\"viewBox=\"0 0 24 24\"\n",
              "     width=\"24px\">\n",
              "    <g>\n",
              "        <path d=\"M19 3H5c-1.1 0-2 .9-2 2v14c0 1.1.9 2 2 2h14c1.1 0 2-.9 2-2V5c0-1.1-.9-2-2-2zM9 17H7v-7h2v7zm4 0h-2V7h2v10zm4 0h-2v-4h2v4z\"/>\n",
              "    </g>\n",
              "</svg>\n",
              "  </button>\n",
              "\n",
              "<style>\n",
              "  .colab-df-quickchart {\n",
              "      --bg-color: #E8F0FE;\n",
              "      --fill-color: #1967D2;\n",
              "      --hover-bg-color: #E2EBFA;\n",
              "      --hover-fill-color: #174EA6;\n",
              "      --disabled-fill-color: #AAA;\n",
              "      --disabled-bg-color: #DDD;\n",
              "  }\n",
              "\n",
              "  [theme=dark] .colab-df-quickchart {\n",
              "      --bg-color: #3B4455;\n",
              "      --fill-color: #D2E3FC;\n",
              "      --hover-bg-color: #434B5C;\n",
              "      --hover-fill-color: #FFFFFF;\n",
              "      --disabled-bg-color: #3B4455;\n",
              "      --disabled-fill-color: #666;\n",
              "  }\n",
              "\n",
              "  .colab-df-quickchart {\n",
              "    background-color: var(--bg-color);\n",
              "    border: none;\n",
              "    border-radius: 50%;\n",
              "    cursor: pointer;\n",
              "    display: none;\n",
              "    fill: var(--fill-color);\n",
              "    height: 32px;\n",
              "    padding: 0;\n",
              "    width: 32px;\n",
              "  }\n",
              "\n",
              "  .colab-df-quickchart:hover {\n",
              "    background-color: var(--hover-bg-color);\n",
              "    box-shadow: 0 1px 2px rgba(60, 64, 67, 0.3), 0 1px 3px 1px rgba(60, 64, 67, 0.15);\n",
              "    fill: var(--button-hover-fill-color);\n",
              "  }\n",
              "\n",
              "  .colab-df-quickchart-complete:disabled,\n",
              "  .colab-df-quickchart-complete:disabled:hover {\n",
              "    background-color: var(--disabled-bg-color);\n",
              "    fill: var(--disabled-fill-color);\n",
              "    box-shadow: none;\n",
              "  }\n",
              "\n",
              "  .colab-df-spinner {\n",
              "    border: 2px solid var(--fill-color);\n",
              "    border-color: transparent;\n",
              "    border-bottom-color: var(--fill-color);\n",
              "    animation:\n",
              "      spin 1s steps(1) infinite;\n",
              "  }\n",
              "\n",
              "  @keyframes spin {\n",
              "    0% {\n",
              "      border-color: transparent;\n",
              "      border-bottom-color: var(--fill-color);\n",
              "      border-left-color: var(--fill-color);\n",
              "    }\n",
              "    20% {\n",
              "      border-color: transparent;\n",
              "      border-left-color: var(--fill-color);\n",
              "      border-top-color: var(--fill-color);\n",
              "    }\n",
              "    30% {\n",
              "      border-color: transparent;\n",
              "      border-left-color: var(--fill-color);\n",
              "      border-top-color: var(--fill-color);\n",
              "      border-right-color: var(--fill-color);\n",
              "    }\n",
              "    40% {\n",
              "      border-color: transparent;\n",
              "      border-right-color: var(--fill-color);\n",
              "      border-top-color: var(--fill-color);\n",
              "    }\n",
              "    60% {\n",
              "      border-color: transparent;\n",
              "      border-right-color: var(--fill-color);\n",
              "    }\n",
              "    80% {\n",
              "      border-color: transparent;\n",
              "      border-right-color: var(--fill-color);\n",
              "      border-bottom-color: var(--fill-color);\n",
              "    }\n",
              "    90% {\n",
              "      border-color: transparent;\n",
              "      border-bottom-color: var(--fill-color);\n",
              "    }\n",
              "  }\n",
              "</style>\n",
              "\n",
              "  <script>\n",
              "    async function quickchart(key) {\n",
              "      const quickchartButtonEl =\n",
              "        document.querySelector('#' + key + ' button');\n",
              "      quickchartButtonEl.disabled = true;  // To prevent multiple clicks.\n",
              "      quickchartButtonEl.classList.add('colab-df-spinner');\n",
              "      try {\n",
              "        const charts = await google.colab.kernel.invokeFunction(\n",
              "            'suggestCharts', [key], {});\n",
              "      } catch (error) {\n",
              "        console.error('Error during call to suggestCharts:', error);\n",
              "      }\n",
              "      quickchartButtonEl.classList.remove('colab-df-spinner');\n",
              "      quickchartButtonEl.classList.add('colab-df-quickchart-complete');\n",
              "    }\n",
              "    (() => {\n",
              "      let quickchartButtonEl =\n",
              "        document.querySelector('#df-07d2dbd4-d608-4239-8b2f-7ac2365606d3 button');\n",
              "      quickchartButtonEl.style.display =\n",
              "        google.colab.kernel.accessAllowed ? 'block' : 'none';\n",
              "    })();\n",
              "  </script>\n",
              "</div>\n",
              "    </div>\n",
              "  </div>\n"
            ],
            "application/vnd.google.colaboratory.intrinsic+json": {
              "type": "dataframe",
              "variable_name": "df",
              "summary": "{\n  \"name\": \"df\",\n  \"rows\": 730,\n  \"fields\": [\n    {\n      \"column\": \"client_id\",\n      \"properties\": {\n        \"dtype\": \"number\",\n        \"std\": 106.5907613341524,\n        \"min\": 6.0,\n        \"max\": 398.0,\n        \"num_unique_values\": 212,\n        \"samples\": [\n          63.0,\n          353.0,\n          107.0\n        ],\n        \"semantic_type\": \"\",\n        \"description\": \"\"\n      }\n    },\n    {\n      \"column\": \"sum\",\n      \"properties\": {\n        \"dtype\": \"number\",\n        \"std\": 6308.571297026363,\n        \"min\": 23.7,\n        \"max\": 39713.5,\n        \"num_unique_values\": 504,\n        \"samples\": [\n          6320.7,\n          5873.7,\n          9833.7\n        ],\n        \"semantic_type\": \"\",\n        \"description\": \"\"\n      }\n    },\n    {\n      \"column\": \"status\",\n      \"properties\": {\n        \"dtype\": \"category\",\n        \"num_unique_values\": 11,\n        \"samples\": [\n          \"\\u0418\\u044e\\u043b\\u044c 2021\",\n          \"\\u041c\\u0430\\u0439 2021\",\n          \"\\u041e\\u043a\\u0442\\u044f\\u0431\\u0440\\u044c 2021\"\n        ],\n        \"semantic_type\": \"\",\n        \"description\": \"\"\n      }\n    },\n    {\n      \"column\": \"sale\",\n      \"properties\": {\n        \"dtype\": \"category\",\n        \"num_unique_values\": 12,\n        \"samples\": [\n          \"\\u041c\\u0438\\u0445\\u0430\\u0439\\u043b\\u043e\\u0432\",\n          \"\\u0421\\u043e\\u043a\\u043e\\u043b\\u043e\\u0432\",\n          \"-\"\n        ],\n        \"semantic_type\": \"\",\n        \"description\": \"\"\n      }\n    },\n    {\n      \"column\": \"new/current\",\n      \"properties\": {\n        \"dtype\": \"category\",\n        \"num_unique_values\": 3,\n        \"samples\": [\n          \"-\",\n          \"\\u043d\\u043e\\u0432\\u0430\\u044f\",\n          \"\\u0442\\u0435\\u043a\\u0443\\u0449\\u0430\\u044f\"\n        ],\n        \"semantic_type\": \"\",\n        \"description\": \"\"\n      }\n    },\n    {\n      \"column\": \"Unnamed: 5\",\n      \"properties\": {\n        \"dtype\": \"number\",\n        \"std\": null,\n        \"min\": null,\n        \"max\": null,\n        \"num_unique_values\": 0,\n        \"samples\": [],\n        \"semantic_type\": \"\",\n        \"description\": \"\"\n      }\n    },\n    {\n      \"column\": \"document\",\n      \"properties\": {\n        \"dtype\": \"category\",\n        \"num_unique_values\": 3,\n        \"samples\": [],\n        \"semantic_type\": \"\",\n        \"description\": \"\"\n      }\n    },\n    {\n      \"column\": \"receiving_date\",\n      \"properties\": {\n        \"dtype\": \"date\",\n        \"min\": \"2021-05-18 00:00:00\",\n        \"max\": \"2021-11-15 00:00:00\",\n        \"num_unique_values\": 110,\n        \"samples\": [],\n        \"semantic_type\": \"\",\n        \"description\": \"\"\n      }\n    }\n  ]\n}"
            }
          },
          "metadata": {},
          "execution_count": 115
        }
      ]
    },
    {
      "cell_type": "code",
      "source": [
        "df['receiving_date'] = pd.to_datetime(df['receiving_date'], errors='coerce')"
      ],
      "metadata": {
        "id": "8qjPo6D_kbl7"
      },
      "execution_count": 37,
      "outputs": []
    },
    {
      "cell_type": "markdown",
      "source": [
        "**1) Вычислите общую выручку за июль 2021 по тем сделкам, приход денежных средств которых не просрочен.** — 757831"
      ],
      "metadata": {
        "id": "lwC1j6IAqzJ1"
      }
    },
    {
      "cell_type": "code",
      "source": [
        "round(df[(df['status'] != 'ПРОСРОЧЕНО') & (df['receiving_date'].dt.month == 7)]['sum'].sum())"
      ],
      "metadata": {
        "colab": {
          "base_uri": "https://localhost:8080/"
        },
        "id": "ZoFDEt_5mrFw",
        "outputId": "561e8810-d0c0-4a49-b0c4-928ec83e75fb"
      },
      "execution_count": 38,
      "outputs": [
        {
          "output_type": "execute_result",
          "data": {
            "text/plain": [
              "757831"
            ]
          },
          "metadata": {},
          "execution_count": 38
        }
      ]
    },
    {
      "cell_type": "markdown",
      "source": [
        "**2) Как изменялась выручка компании за рассматриваемый период? Проиллюстрируйте графиком**"
      ],
      "metadata": {
        "id": "xGMZB-xZq9pA"
      }
    },
    {
      "cell_type": "code",
      "source": [
        "revenue_df = df.groupby('receiving_date')['sum'].sum().reset_index()\n",
        "\n",
        "sns.lineplot(x=\"receiving_date\", y=\"sum\", data=revenue_df)\n",
        "plt.title('Выручка за Июль 2021 года')\n",
        "plt.xlabel('Дата')\n",
        "plt.ylabel('Выручка')\n",
        "plt.show()"
      ],
      "metadata": {
        "colab": {
          "base_uri": "https://localhost:8080/",
          "height": 472
        },
        "id": "s2O3fBuZv7hd",
        "outputId": "c284765e-ca3a-4e61-fd07-d6f0a9191314"
      },
      "execution_count": 39,
      "outputs": [
        {
          "output_type": "display_data",
          "data": {
            "text/plain": [
              "<Figure size 640x480 with 1 Axes>"
            ],
            "image/png": "[encoded data removed]"
          },
          "metadata": {}
        }
      ]
    },
    {
      "cell_type": "markdown",
      "source": [
        "**3) Кто из менеджеров привлек для компании больше всего денежных средств в сентябре 2021?** — Петрова, 219240"
      ],
      "metadata": {
        "id": "NnXxZJPbzZWg"
      }
    },
    {
      "cell_type": "code",
      "source": [
        "sale_df = df[df['receiving_date'].dt.month == 9].groupby('sale')['sum'].sum()\n",
        "sale_df.idxmax(), round(sale_df.max())"
      ],
      "metadata": {
        "colab": {
          "base_uri": "https://localhost:8080/"
        },
        "id": "eMMtu3kK0Ea7",
        "outputId": "a79c6afa-1681-472c-de4c-5f619cf055c2"
      },
      "execution_count": 40,
      "outputs": [
        {
          "output_type": "execute_result",
          "data": {
            "text/plain": [
              "('Петрова', 219240)"
            ]
          },
          "metadata": {},
          "execution_count": 40
        }
      ]
    },
    {
      "cell_type": "markdown",
      "source": [
        "**4) Какой тип сделок (новая/текущая) был преобладающим в октябре 2021?** — текущая\n"
      ],
      "metadata": {
        "id": "mWeEk2-X2qSv"
      }
    },
    {
      "cell_type": "code",
      "source": [
        "transaction_type = df[(df['receiving_date'].dt.month == 10)]['new/current'].value_counts()\n",
        "transaction_type.idxmax()"
      ],
      "metadata": {
        "colab": {
          "base_uri": "https://localhost:8080/",
          "height": 36
        },
        "id": "4KOHHIeE2yc8",
        "outputId": "507ec4db-f69a-4fa0-cb25-14f37d6eefe1"
      },
      "execution_count": 41,
      "outputs": [
        {
          "output_type": "execute_result",
          "data": {
            "text/plain": [
              "'текущая'"
            ],
            "application/vnd.google.colaboratory.intrinsic+json": {
              "type": "string"
            }
          },
          "metadata": {},
          "execution_count": 41
        }
      ]
    },
    {
      "cell_type": "markdown",
      "source": [
        "**5) Сколько оригиналов договора по майским сделкам было получено в июне 2021?** — 76"
      ],
      "metadata": {
        "id": "_cpNeHKi3iWF"
      }
    },
    {
      "cell_type": "code",
      "source": [
        "df[(df['receiving_date'].dt.month == 6) & (df['document'] == 'оригинал')].shape[0]"
      ],
      "metadata": {
        "colab": {
          "base_uri": "https://localhost:8080/"
        },
        "id": "WlpYHFwA4xn1",
        "outputId": "fae7340b-10f0-4695-fe15-27bfd139025f"
      },
      "execution_count": 42,
      "outputs": [
        {
          "output_type": "execute_result",
          "data": {
            "text/plain": [
              "76"
            ]
          },
          "metadata": {},
          "execution_count": 42
        }
      ]
    },
    {
      "cell_type": "markdown",
      "source": [
        "За каждую заключенную сделку менеджер получает бонус, который рассчитывается\n",
        "следующим образом.\n",
        "* 1) За новые сделки менеджер получает 7 % от суммы, при условии, что статус\n",
        "оплаты «ОПЛАЧЕНО», а также имеется оригинал подписанного договора с\n",
        "клиентом (в рассматриваемом месяце).\n",
        "* 2) За текущие сделки менеджер получает 5 % от суммы, если она больше 10 тыс.,\n",
        "и 3 % от суммы, если меньше. При этом статус оплаты может быть любым,\n",
        "кроме «ПРОСРОЧЕНО», а также необходимо наличие оригинала подписанного\n",
        "договора с клиентом (в рассматриваемом месяце).\n",
        "\n",
        "Бонусы по сделкам, оригиналы для которых приходят позже рассматриваемого\n",
        "месяца, считаются остатком на следующий период, который выплачивается по мере\n",
        "прихода оригиналов. Вычислите остаток каждого из менеджеров на 01.07.2021"
      ],
      "metadata": {
        "id": "HIxH45PX6I4f"
      }
    },
    {
      "cell_type": "code",
      "source": [
        "def calculate_bonus(data, target_month):\n",
        "    # Фильтруем данные, чтобы учесть только сделки, которые были заключены после target_month\n",
        "    filtered_data = data[data['receiving_date'].dt.month > target_month]\n",
        "\n",
        "    # Проверяем, есть ли оригинал в документе\n",
        "    filtered_data['has_original'] = filtered_data['document'].str.contains('оригинал', case=False, na=False)\n",
        "\n",
        "    # Рассчитываем бонус для новых сделок\n",
        "    new_deals = filtered_data[\n",
        "        (filtered_data['new/current'] == 'новая') &\n",
        "        (filtered_data['status'] == 'ОПЛАЧЕНО') &\n",
        "        (filtered_data['has_original'])\n",
        "    ]\n",
        "    new_bonus = new_deals.groupby('sale')['sum'].sum() * 0.07\n",
        "\n",
        "    # Рассчитываем бонус для текущих сделок\n",
        "    current_deals = filtered_data[\n",
        "        (filtered_data['new/current'] == 'текущая') &\n",
        "        (filtered_data['status'] != 'ПРОСРОЧЕНО') &\n",
        "        (filtered_data['has_original'])\n",
        "    ]\n",
        "\n",
        "    # Применяем условия для расчета текущих бонусов\n",
        "    current_deals['bonus'] = current_deals.apply(\n",
        "        lambda row: row['sum'] * 0.05 if row['sum'] > 10000 else row['sum'] * 0.03,\n",
        "        axis=1\n",
        "    )\n",
        "\n",
        "    current_bonus = current_deals.groupby('sale')['bonus'].sum()\n",
        "\n",
        "    # Объединяем результаты\n",
        "    total_bonus = new_bonus.add(current_bonus, fill_value=0)\n",
        "\n",
        "    # Преобразуем в словарь\n",
        "    bonus_remainder = total_bonus.to_dict()\n",
        "\n",
        "    return bonus_remainder"
      ],
      "metadata": {
        "id": "8lFVpaXQ_S6w"
      },
      "execution_count": 43,
      "outputs": []
    },
    {
      "cell_type": "code",
      "source": [
        "# Вызов функции для расчета бонуса\n",
        "bonus_remainder_on_july_1 = calculate_bonus(df, 6)\n",
        "\n",
        "print(\"Остаток бонусов на 01.07.2021:\")\n",
        "for manager, bonus in bonus_remainder_on_july_1.items():\n",
        "    print(f\"{manager}: {bonus:.2f}\")"
      ],
      "metadata": {
        "colab": {
          "base_uri": "https://localhost:8080/"
        },
        "id": "WE_tpE9dAGHl",
        "outputId": "d913ab62-142c-41e1-9326-e16c97ab713f"
      },
      "execution_count": 45,
      "outputs": [
        {
          "output_type": "stream",
          "name": "stdout",
          "text": [
            "Остаток бонусов на 01.07.2021:\n",
            "Андреев: 26175.95\n",
            "Васильев: 6934.60\n",
            "Иванов: 22254.26\n",
            "Кузнецова: 16108.77\n",
            "Михайлов: 607.07\n",
            "Петрова: 27753.65\n",
            "Селиванов: 7102.46\n",
            "Смирнов: 30073.14\n",
            "Соколов: 3730.71\n",
            "Филимонова: 10830.53\n"
          ]
        }
      ]
    }
  ]
}